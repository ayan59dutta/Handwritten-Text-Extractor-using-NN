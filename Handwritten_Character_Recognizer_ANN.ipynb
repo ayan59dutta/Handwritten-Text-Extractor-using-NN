{
  "nbformat": 4,
  "nbformat_minor": 0,
  "metadata": {
    "colab": {
      "name": "Handwritten_Character_Recognizer_ANN.ipynb",
      "version": "0.3.2",
      "provenance": [],
      "include_colab_link": true
    },
    "kernelspec": {
      "display_name": "Python 3",
      "language": "python",
      "name": "python3"
    }
  },
  "cells": [
    {
      "cell_type": "markdown",
      "metadata": {
        "id": "view-in-github",
        "colab_type": "text"
      },
      "source": [
        "[View in Colaboratory](https://colab.research.google.com/github/ayan59dutta/Handwritten-Text-Extractor-using-NN/blob/master/Handwritten_Character_Recognizer_ANN.ipynb)"
      ]
    },
    {
      "metadata": {
        "id": "XMk8m6N3zpiR",
        "colab_type": "code",
        "colab": {
          "base_uri": "https://localhost:8080/",
          "height": 35
        },
        "outputId": "f7ae2d4c-64e8-473a-8270-8de104478d0f"
      },
      "cell_type": "code",
      "source": [
        "import time\n",
        "start = time.time()\n",
        "import tensorflow as tf\n",
        "import matplotlib.pyplot as plt\n",
        "import numpy as np\n",
        "import os\n",
        "from PIL import Image\n",
        "import zipfile\n",
        "import requests\n",
        "import io\n",
        "print('Packages imported in', time.time()-start, 'seconds...')"
      ],
      "execution_count": 1,
      "outputs": [
        {
          "output_type": "stream",
          "text": [
            "Packages imported in 0.9132380485534668 seconds...\n"
          ],
          "name": "stdout"
        }
      ]
    },
    {
      "metadata": {
        "id": "vgfYAWlj1J89",
        "colab_type": "code",
        "colab": {
          "base_uri": "https://localhost:8080/",
          "height": 356
        },
        "outputId": "348b5499-5ca0-4df0-9426-90f5f584d0e0"
      },
      "cell_type": "code",
      "source": [
        "start = time.time()\n",
        "with zf.ZipFile(io.BytesIO((requests.get('https://s3.amazonaws.com/nist-srd/SD19/by_class.zip')).content), 'r') as zip_ref:\n",
        "    zip_ref.extractall('nist_by_class')\n",
        "print('Dataset unzipped in', time.time()-start, 'seconds...')"
      ],
      "execution_count": 2,
      "outputs": [
        {
          "output_type": "error",
          "ename": "FileNotFoundError",
          "evalue": "ignored",
          "traceback": [
            "\u001b[0;31m---------------------------------------------------------------------------\u001b[0m",
            "\u001b[0;31mFileNotFoundError\u001b[0m                         Traceback (most recent call last)",
            "\u001b[0;32m<ipython-input-2-6ace777fb8e7>\u001b[0m in \u001b[0;36m<module>\u001b[0;34m()\u001b[0m\n\u001b[1;32m      1\u001b[0m \u001b[0mstart\u001b[0m \u001b[0;34m=\u001b[0m \u001b[0mtime\u001b[0m\u001b[0;34m.\u001b[0m\u001b[0mtime\u001b[0m\u001b[0;34m(\u001b[0m\u001b[0;34m)\u001b[0m\u001b[0;34m\u001b[0m\u001b[0m\n\u001b[0;32m----> 2\u001b[0;31m \u001b[0;32mwith\u001b[0m \u001b[0mzf\u001b[0m\u001b[0;34m.\u001b[0m\u001b[0mZipFile\u001b[0m\u001b[0;34m(\u001b[0m\u001b[0;34m'https://s3.amazonaws.com/nist-srd/SD19/by_class.zip'\u001b[0m\u001b[0;34m,\u001b[0m \u001b[0;34m'r'\u001b[0m\u001b[0;34m)\u001b[0m \u001b[0;32mas\u001b[0m \u001b[0mzip_ref\u001b[0m\u001b[0;34m:\u001b[0m\u001b[0;34m\u001b[0m\u001b[0m\n\u001b[0m\u001b[1;32m      3\u001b[0m     \u001b[0mzip_ref\u001b[0m\u001b[0;34m.\u001b[0m\u001b[0mextractall\u001b[0m\u001b[0;34m(\u001b[0m\u001b[0;34m'nist_by_class'\u001b[0m\u001b[0;34m)\u001b[0m\u001b[0;34m\u001b[0m\u001b[0m\n\u001b[1;32m      4\u001b[0m \u001b[0mprint\u001b[0m\u001b[0;34m(\u001b[0m\u001b[0;34m'Dataset unzipped in'\u001b[0m\u001b[0;34m,\u001b[0m \u001b[0mtime\u001b[0m\u001b[0;34m.\u001b[0m\u001b[0mtime\u001b[0m\u001b[0;34m(\u001b[0m\u001b[0;34m)\u001b[0m\u001b[0;34m-\u001b[0m\u001b[0mstart\u001b[0m\u001b[0;34m,\u001b[0m \u001b[0;34m'seconds...'\u001b[0m\u001b[0;34m)\u001b[0m\u001b[0;34m\u001b[0m\u001b[0m\n",
            "\u001b[0;32m/usr/lib/python3.6/zipfile.py\u001b[0m in \u001b[0;36m__init__\u001b[0;34m(self, file, mode, compression, allowZip64)\u001b[0m\n\u001b[1;32m   1088\u001b[0m             \u001b[0;32mwhile\u001b[0m \u001b[0;32mTrue\u001b[0m\u001b[0;34m:\u001b[0m\u001b[0;34m\u001b[0m\u001b[0m\n\u001b[1;32m   1089\u001b[0m                 \u001b[0;32mtry\u001b[0m\u001b[0;34m:\u001b[0m\u001b[0;34m\u001b[0m\u001b[0m\n\u001b[0;32m-> 1090\u001b[0;31m                     \u001b[0mself\u001b[0m\u001b[0;34m.\u001b[0m\u001b[0mfp\u001b[0m \u001b[0;34m=\u001b[0m \u001b[0mio\u001b[0m\u001b[0;34m.\u001b[0m\u001b[0mopen\u001b[0m\u001b[0;34m(\u001b[0m\u001b[0mfile\u001b[0m\u001b[0;34m,\u001b[0m \u001b[0mfilemode\u001b[0m\u001b[0;34m)\u001b[0m\u001b[0;34m\u001b[0m\u001b[0m\n\u001b[0m\u001b[1;32m   1091\u001b[0m                 \u001b[0;32mexcept\u001b[0m \u001b[0mOSError\u001b[0m\u001b[0;34m:\u001b[0m\u001b[0;34m\u001b[0m\u001b[0m\n\u001b[1;32m   1092\u001b[0m                     \u001b[0;32mif\u001b[0m \u001b[0mfilemode\u001b[0m \u001b[0;32min\u001b[0m \u001b[0mmodeDict\u001b[0m\u001b[0;34m:\u001b[0m\u001b[0;34m\u001b[0m\u001b[0m\n",
            "\u001b[0;31mFileNotFoundError\u001b[0m: [Errno 2] No such file or directory: 'https://s3.amazonaws.com/nist-srd/SD19/by_class.zip'"
          ]
        }
      ]
    },
    {
      "metadata": {
        "id": "f3gOvFW6zpik",
        "colab_type": "code",
        "colab": {}
      },
      "cell_type": "code",
      "source": [
        "# start = time.time()\n",
        "# data = np.loadtxt('nist_byclass_full.csv', dtype='uint8', delimiter=',')\n",
        "# print(data.shape, 'read from file in', time.time()-start, 'seconds...')\n",
        "\n",
        "# #(731668, 4097) read from file in 2562.7861433029175 seconds..."
      ],
      "execution_count": 0,
      "outputs": []
    },
    {
      "metadata": {
        "id": "-DvDeZTozpiu",
        "colab_type": "code",
        "colab": {}
      },
      "cell_type": "code",
      "source": [
        "class_info = {}\n",
        "for i in range(48, 58):\n",
        "    class_info[i-48] = (hex(i)[2:], i, chr(i))\n",
        "for i in range(65, 65+26):\n",
        "    class_info[i-65+10] = (hex(i)[2:], i, chr(i))\n",
        "for i in range(97, 97+26):\n",
        "    class_info[i-97+36] = (hex(i)[2:], i, chr(i))"
      ],
      "execution_count": 0,
      "outputs": []
    },
    {
      "metadata": {
        "id": "kQIoEoHjzpi4",
        "colab_type": "code",
        "colab": {},
        "outputId": "25d9cc90-36b9-497f-b4a4-f94ecc5d3f66"
      },
      "cell_type": "code",
      "source": [
        "start = time.time()\n",
        "data_list = []\n",
        "total_count = 0\n",
        "\n",
        "for i in class_info:\n",
        "    print(class_info[i], '\\t', time.time()-start, 'seconds', end='\\t')\n",
        "    path = 'nist_by_class/' + class_info[i][0] + '/train_' + class_info[i][0]\n",
        "    count = 0\n",
        "    for img in os.listdir(path):\n",
        "        im = Image.open(path + '/' + img).convert('L').crop((32, 32, 96, 96))\n",
        "        im_arr = np.array(im, dtype='float32') / 255.0\n",
        "        flat_im_arr = im_arr.flatten()\n",
        "        flat_im_arr_labelled = np.insert(flat_im_arr, 0, i)\n",
        "        data_list.append(flat_im_arr_labelled)\n",
        "        count += 1\n",
        "    print(count, 'samples')\n",
        "    total_count += count\n",
        "\n",
        "data = np.array(data_list, dtype='float32')\n",
        "\n",
        "print('Total number of samples =', total_count)\n",
        "print('Shape of final data =', data.shape)\n",
        "\n",
        "print('All sample images processed in', time.time()-start, 'seconds...')"
      ],
      "execution_count": 0,
      "outputs": [
        {
          "output_type": "stream",
          "text": [
            "('30', 48, '0') \t 0.0 seconds\t34803 samples\n",
            "('31', 49, '1') \t 89.79124760627747 seconds\t38049 samples\n",
            "('32', 50, '2') \t 218.15132927894592 seconds\t34184 samples\n",
            "('33', 51, '3') \t 347.50008630752563 seconds\t35293 samples\n",
            "('34', 52, '4') \t 522.48166847229 seconds\t33432 samples\n",
            "('35', 53, '5') \t 644.8335137367249 seconds\t31067 samples\n",
            "('36', 54, '6') \t 777.9324352741241 seconds\t34079 samples\n",
            "('37', 55, '7') \t 902.2628200054169 seconds\t35796 samples\n",
            "('38', 56, '8') \t 1046.4304966926575 seconds\t33884 samples\n",
            "('39', 57, '9') \t 1261.4349670410156 seconds\t33720 samples\n",
            "('41', 65, 'A') \t 1488.313111782074 seconds\t7010 samples\n",
            "('42', 66, 'B') \t 1506.3786582946777 seconds\t4091 samples\n",
            "('43', 67, 'C') \t 1516.8568949699402 seconds\t11315 samples\n",
            "('44', 68, 'D') \t 1538.054951429367 seconds\t4945 samples\n",
            "('45', 69, 'E') \t 1549.6822385787964 seconds\t5420 samples\n",
            "('46', 70, 'F') \t 1560.8441553115845 seconds\t10203 samples\n",
            "('47', 71, 'G') \t 1585.7007427215576 seconds\t2575 samples\n",
            "('48', 72, 'H') \t 1593.133752822876 seconds\t3271 samples\n",
            "('49', 73, 'I') \t 1599.334084033966 seconds\t13179 samples\n",
            "('4a', 74, 'J') \t 1623.7970731258392 seconds\t3962 samples\n",
            "('4b', 75, 'K') \t 1631.3905987739563 seconds\t2473 samples\n",
            "('4c', 76, 'L') \t 1637.242548942566 seconds\t5390 samples\n",
            "('4d', 77, 'M') \t 1646.8365998268127 seconds\t10027 samples\n",
            "('4e', 78, 'N') \t 1668.6963694095612 seconds\t9149 samples\n",
            "('4f', 79, 'O') \t 1690.7740087509155 seconds\t28680 samples\n",
            "('50', 80, 'P') \t 1748.18301820755 seconds\t9277 samples\n",
            "('51', 81, 'Q') \t 1767.9544348716736 seconds\t2566 samples\n",
            "('52', 82, 'R') \t 1774.3843400478363 seconds\t5436 samples\n",
            "('53', 83, 'S') \t 1787.618281364441 seconds\t23827 samples\n",
            "('54', 84, 'T') \t 1834.9977543354034 seconds\t10927 samples\n",
            "('55', 85, 'U') \t 1856.0823423862457 seconds\t14146 samples\n",
            "('56', 86, 'V') \t 1884.140382528305 seconds\t4951 samples\n",
            "('57', 87, 'W') \t 1893.1981513500214 seconds\t5026 samples\n",
            "('58', 88, 'X') \t 1905.527647972107 seconds\t2731 samples\n",
            "('59', 89, 'Y') \t 1911.536226272583 seconds\t5088 samples\n",
            "('5a', 90, 'Z') \t 1922.3654301166534 seconds\t2698 samples\n",
            "('61', 97, 'a') \t 1927.5761468410492 seconds\t11196 samples\n",
            "('62', 98, 'b') \t 1951.7192714214325 seconds\t5551 samples\n",
            "('63', 99, 'c') \t 1968.1465110778809 seconds\t2792 samples\n",
            "('64', 100, 'd') \t 1974.150030374527 seconds\t11421 samples\n",
            "('65', 101, 'e') \t 1999.0009968280792 seconds\t28299 samples\n",
            "('66', 102, 'f') \t 2053.6699101924896 seconds\t2493 samples\n",
            "('67', 103, 'g') \t 2058.399164199829 seconds\t3839 samples\n",
            "('68', 104, 'h') \t 2066.155082464218 seconds\t9713 samples\n",
            "('69', 105, 'i') \t 2084.586400270462 seconds\t2788 samples\n",
            "('6a', 106, 'j') \t 2089.5011460781097 seconds\t1920 samples\n",
            "('6b', 107, 'k') \t 2094.14936375618 seconds\t2562 samples\n",
            "('6c', 108, 'l') \t 2100.196926832199 seconds\t16937 samples\n",
            "('6d', 109, 'm') \t 2135.6658840179443 seconds\t2634 samples\n",
            "('6e', 110, 'n') \t 2140.6762235164642 seconds\t12856 samples\n",
            "('6f', 111, 'o') \t 2163.8881516456604 seconds\t2761 samples\n",
            "('70', 112, 'p') \t 2168.840360879898 seconds\t2401 samples\n",
            "('71', 113, 'q') \t 2174.4030051231384 seconds\t3115 samples\n",
            "('72', 114, 'r') \t 2180.4027614593506 seconds\t15934 samples\n",
            "('73', 115, 's') \t 2208.336054801941 seconds\t2698 samples\n",
            "('74', 116, 't') \t 2213.886523962021 seconds\t20793 samples\n",
            "('75', 117, 'u') \t 2252.5143060684204 seconds\t2837 samples\n",
            "('76', 118, 'v') \t 2258.6449110507965 seconds\t2854 samples\n",
            "('77', 119, 'w') \t 2263.907819509506 seconds\t2699 samples\n",
            "('78', 120, 'x') \t 2269.9043452739716 seconds\t2820 samples\n",
            "('79', 121, 'y') \t 2275.044545173645 seconds\t2359 samples\n",
            "('7a', 122, 'z') \t 2279.3805220127106 seconds\t2726 samples\n",
            "Total number of samples = 731668\n",
            "Shape of final data = (731668, 4097)\n",
            "All sample images processed in 2612.037046432495 seconds...\n"
          ],
          "name": "stdout"
        }
      ]
    },
    {
      "metadata": {
        "id": "OVRYkwFMzpjC",
        "colab_type": "code",
        "colab": {},
        "outputId": "fea6aa3a-8b24-43f9-85b1-5068edaa78e6"
      },
      "cell_type": "code",
      "source": [
        "start = time.time()\n",
        "data_shuffled = np.random.shuffle(data)\n",
        "print('Data shuffled in', time.time()-start, 'seconds...')"
      ],
      "execution_count": 0,
      "outputs": [
        {
          "output_type": "stream",
          "text": [
            "Data shuffled in 3140.593427658081 seconds...\n"
          ],
          "name": "stdout"
        }
      ]
    },
    {
      "metadata": {
        "id": "rWz-25N5zpjK",
        "colab_type": "code",
        "colab": {}
      },
      "cell_type": "code",
      "source": [
        "X_train = data[:627000, 1:]\n",
        "Y_train = data[:627000, 0]\n",
        "X_test = data[627000:, 1:]\n",
        "Y_test = data[627000:, 0]\n",
        "del data"
      ],
      "execution_count": 0,
      "outputs": []
    },
    {
      "metadata": {
        "id": "BelUeGWDzpjU",
        "colab_type": "code",
        "colab": {}
      },
      "cell_type": "code",
      "source": [
        "model = tf.keras.models.Sequential()\n",
        "layer = tf.keras.layers.Dense(256, input_shape=[64*64*1])\n",
        "model.add(layer)\n",
        "model.add(tf.keras.layers.Dense(192))\n",
        "model.add(tf.keras.layers.Dense(128))\n",
        "model.add(tf.keras.layers.Dense(62, activation='softmax'))"
      ],
      "execution_count": 0,
      "outputs": []
    },
    {
      "metadata": {
        "id": "0e-qVqXMzpji",
        "colab_type": "code",
        "colab": {}
      },
      "cell_type": "code",
      "source": [
        "model.compile(optimizer='adam', loss='categorical_crossentropy')"
      ],
      "execution_count": 0,
      "outputs": []
    },
    {
      "metadata": {
        "id": "_x1EOewgzpjt",
        "colab_type": "code",
        "colab": {},
        "outputId": "9caaa3bc-b8ce-4867-8bde-c7e8970b1319"
      },
      "cell_type": "code",
      "source": [
        "model.summary()"
      ],
      "execution_count": 0,
      "outputs": [
        {
          "output_type": "stream",
          "text": [
            "_________________________________________________________________\n",
            "Layer (type)                 Output Shape              Param #   \n",
            "=================================================================\n",
            "dense (Dense)                (None, 256)               1048832   \n",
            "_________________________________________________________________\n",
            "dense_1 (Dense)              (None, 192)               49344     \n",
            "_________________________________________________________________\n",
            "dense_2 (Dense)              (None, 128)               24704     \n",
            "_________________________________________________________________\n",
            "dense_3 (Dense)              (None, 62)                7998      \n",
            "=================================================================\n",
            "Total params: 1,130,878\n",
            "Trainable params: 1,130,878\n",
            "Non-trainable params: 0\n",
            "_________________________________________________________________\n"
          ],
          "name": "stdout"
        }
      ]
    },
    {
      "metadata": {
        "id": "q9XcmFfyzpj7",
        "colab_type": "code",
        "colab": {}
      },
      "cell_type": "code",
      "source": [
        "Y_train = tf.keras.utils.to_categorical(Y_train)"
      ],
      "execution_count": 0,
      "outputs": []
    },
    {
      "metadata": {
        "id": "A6c-qHSCzpkC",
        "colab_type": "code",
        "colab": {}
      },
      "cell_type": "code",
      "source": [
        "# X_train = X_train.astype('float32') / 255.0"
      ],
      "execution_count": 0,
      "outputs": []
    },
    {
      "metadata": {
        "id": "tal1bLyTzpkJ",
        "colab_type": "code",
        "colab": {},
        "outputId": "6ab20239-a83f-4da8-e801-74fb31a78059"
      },
      "cell_type": "code",
      "source": [
        "model.fit(X_train, Y_train)"
      ],
      "execution_count": 0,
      "outputs": [
        {
          "output_type": "stream",
          "text": [
            "Epoch 1/1\n",
            "627000/627000 [==============================] - 2217s 4ms/step - loss: 15.3387\n"
          ],
          "name": "stdout"
        },
        {
          "output_type": "execute_result",
          "data": {
            "text/plain": [
              "<tensorflow.python.keras.callbacks.History at 0x2142ebeef60>"
            ]
          },
          "metadata": {
            "tags": []
          },
          "execution_count": 10
        }
      ]
    },
    {
      "metadata": {
        "id": "BZffkvRezpkS",
        "colab_type": "code",
        "colab": {},
        "outputId": "bacc53a6-c027-4652-a98c-0b4e9e521191"
      },
      "cell_type": "code",
      "source": [
        "to_predict = X_test[0]\n",
        "\n",
        "pred = model.predict(X_test[0].reshape(4096,))\n",
        "print(class_info[np.argmax(pred)][-1])\n",
        "\n",
        "plt.axis('off')\n",
        "plt.imshow(to_predict.reshape(64, 64))\n",
        "plt.show()"
      ],
      "execution_count": 0,
      "outputs": [
        {
          "output_type": "error",
          "ename": "ValueError",
          "evalue": "Error when checking input: expected dense_input to have shape (4096,) but got array with shape (1,)",
          "traceback": [
            "\u001b[1;31m---------------------------------------------------------------------------\u001b[0m",
            "\u001b[1;31mValueError\u001b[0m                                Traceback (most recent call last)",
            "\u001b[1;32m<ipython-input-20-6ae25c05b928>\u001b[0m in \u001b[0;36m<module>\u001b[1;34m\u001b[0m\n\u001b[0;32m      1\u001b[0m \u001b[0mto_predict\u001b[0m \u001b[1;33m=\u001b[0m \u001b[0mX_test\u001b[0m\u001b[1;33m[\u001b[0m\u001b[1;36m0\u001b[0m\u001b[1;33m]\u001b[0m\u001b[1;33m\u001b[0m\u001b[0m\n\u001b[0;32m      2\u001b[0m \u001b[1;33m\u001b[0m\u001b[0m\n\u001b[1;32m----> 3\u001b[1;33m \u001b[0mpred\u001b[0m \u001b[1;33m=\u001b[0m \u001b[0mmodel\u001b[0m\u001b[1;33m.\u001b[0m\u001b[0mpredict\u001b[0m\u001b[1;33m(\u001b[0m\u001b[0mX_test\u001b[0m\u001b[1;33m[\u001b[0m\u001b[1;36m0\u001b[0m\u001b[1;33m]\u001b[0m\u001b[1;33m.\u001b[0m\u001b[0mreshape\u001b[0m\u001b[1;33m(\u001b[0m\u001b[1;36m4096\u001b[0m\u001b[1;33m,\u001b[0m\u001b[1;33m)\u001b[0m\u001b[1;33m)\u001b[0m\u001b[1;33m\u001b[0m\u001b[0m\n\u001b[0m\u001b[0;32m      4\u001b[0m \u001b[0mprint\u001b[0m\u001b[1;33m(\u001b[0m\u001b[0mclass_info\u001b[0m\u001b[1;33m[\u001b[0m\u001b[0mnp\u001b[0m\u001b[1;33m.\u001b[0m\u001b[0margmax\u001b[0m\u001b[1;33m(\u001b[0m\u001b[0mpred\u001b[0m\u001b[1;33m)\u001b[0m\u001b[1;33m]\u001b[0m\u001b[1;33m[\u001b[0m\u001b[1;33m-\u001b[0m\u001b[1;36m1\u001b[0m\u001b[1;33m]\u001b[0m\u001b[1;33m)\u001b[0m\u001b[1;33m\u001b[0m\u001b[0m\n\u001b[0;32m      5\u001b[0m \u001b[1;33m\u001b[0m\u001b[0m\n",
            "\u001b[1;32mc:\\program files\\python36\\lib\\site-packages\\tensorflow\\python\\keras\\engine\\training.py\u001b[0m in \u001b[0;36mpredict\u001b[1;34m(self, x, batch_size, verbose, steps)\u001b[0m\n\u001b[0;32m   1750\u001b[0m     \u001b[1;31m# Validate and standardize user data.\u001b[0m\u001b[1;33m\u001b[0m\u001b[1;33m\u001b[0m\u001b[0m\n\u001b[0;32m   1751\u001b[0m     x, _, _ = self._standardize_user_data(\n\u001b[1;32m-> 1752\u001b[1;33m         x, check_steps=True, steps_name='steps', steps=steps)\n\u001b[0m\u001b[0;32m   1753\u001b[0m \u001b[1;33m\u001b[0m\u001b[0m\n\u001b[0;32m   1754\u001b[0m     \u001b[1;32mif\u001b[0m \u001b[0mcontext\u001b[0m\u001b[1;33m.\u001b[0m\u001b[0mexecuting_eagerly\u001b[0m\u001b[1;33m(\u001b[0m\u001b[1;33m)\u001b[0m\u001b[1;33m:\u001b[0m\u001b[1;33m\u001b[0m\u001b[0m\n",
            "\u001b[1;32mc:\\program files\\python36\\lib\\site-packages\\tensorflow\\python\\keras\\engine\\training.py\u001b[0m in \u001b[0;36m_standardize_user_data\u001b[1;34m(self, x, y, sample_weight, class_weight, batch_size, check_steps, steps_name, steps, validation_split)\u001b[0m\n\u001b[0;32m    991\u001b[0m       \u001b[0mx\u001b[0m\u001b[1;33m,\u001b[0m \u001b[0my\u001b[0m \u001b[1;33m=\u001b[0m \u001b[0mnext_element\u001b[0m\u001b[1;33m\u001b[0m\u001b[0m\n\u001b[0;32m    992\u001b[0m     x, y, sample_weights = self._standardize_weights(x, y, sample_weight,\n\u001b[1;32m--> 993\u001b[1;33m                                                      class_weight, batch_size)\n\u001b[0m\u001b[0;32m    994\u001b[0m     \u001b[1;32mreturn\u001b[0m \u001b[0mx\u001b[0m\u001b[1;33m,\u001b[0m \u001b[0my\u001b[0m\u001b[1;33m,\u001b[0m \u001b[0msample_weights\u001b[0m\u001b[1;33m\u001b[0m\u001b[0m\n\u001b[0;32m    995\u001b[0m \u001b[1;33m\u001b[0m\u001b[0m\n",
            "\u001b[1;32mc:\\program files\\python36\\lib\\site-packages\\tensorflow\\python\\keras\\engine\\training.py\u001b[0m in \u001b[0;36m_standardize_weights\u001b[1;34m(self, x, y, sample_weight, class_weight, batch_size)\u001b[0m\n\u001b[0;32m   1110\u001b[0m         \u001b[0mfeed_input_shapes\u001b[0m\u001b[1;33m,\u001b[0m\u001b[1;33m\u001b[0m\u001b[0m\n\u001b[0;32m   1111\u001b[0m         \u001b[0mcheck_batch_axis\u001b[0m\u001b[1;33m=\u001b[0m\u001b[1;32mFalse\u001b[0m\u001b[1;33m,\u001b[0m  \u001b[1;31m# Don't enforce the batch size.\u001b[0m\u001b[1;33m\u001b[0m\u001b[0m\n\u001b[1;32m-> 1112\u001b[1;33m         exception_prefix='input')\n\u001b[0m\u001b[0;32m   1113\u001b[0m \u001b[1;33m\u001b[0m\u001b[0m\n\u001b[0;32m   1114\u001b[0m     \u001b[1;32mif\u001b[0m \u001b[0my\u001b[0m \u001b[1;32mis\u001b[0m \u001b[1;32mnot\u001b[0m \u001b[1;32mNone\u001b[0m\u001b[1;33m:\u001b[0m\u001b[1;33m\u001b[0m\u001b[0m\n",
            "\u001b[1;32mc:\\program files\\python36\\lib\\site-packages\\tensorflow\\python\\keras\\engine\\training_utils.py\u001b[0m in \u001b[0;36mstandardize_input_data\u001b[1;34m(data, names, shapes, check_batch_axis, exception_prefix)\u001b[0m\n\u001b[0;32m    323\u001b[0m                 \u001b[1;34m'Error when checking '\u001b[0m \u001b[1;33m+\u001b[0m \u001b[0mexception_prefix\u001b[0m \u001b[1;33m+\u001b[0m \u001b[1;34m': expected '\u001b[0m \u001b[1;33m+\u001b[0m\u001b[1;33m\u001b[0m\u001b[0m\n\u001b[0;32m    324\u001b[0m                 \u001b[0mnames\u001b[0m\u001b[1;33m[\u001b[0m\u001b[0mi\u001b[0m\u001b[1;33m]\u001b[0m \u001b[1;33m+\u001b[0m \u001b[1;34m' to have shape '\u001b[0m \u001b[1;33m+\u001b[0m \u001b[0mstr\u001b[0m\u001b[1;33m(\u001b[0m\u001b[0mshape\u001b[0m\u001b[1;33m)\u001b[0m \u001b[1;33m+\u001b[0m\u001b[1;33m\u001b[0m\u001b[0m\n\u001b[1;32m--> 325\u001b[1;33m                 ' but got array with shape ' + str(data_shape))\n\u001b[0m\u001b[0;32m    326\u001b[0m   \u001b[1;32mreturn\u001b[0m \u001b[0mdata\u001b[0m\u001b[1;33m\u001b[0m\u001b[0m\n\u001b[0;32m    327\u001b[0m \u001b[1;33m\u001b[0m\u001b[0m\n",
            "\u001b[1;31mValueError\u001b[0m: Error when checking input: expected dense_input to have shape (4096,) but got array with shape (1,)"
          ]
        }
      ]
    },
    {
      "metadata": {
        "id": "NZ4Ce8eJzpkc",
        "colab_type": "code",
        "colab": {},
        "outputId": "869e43b8-0423-4947-c67e-903e06ef748b"
      },
      "cell_type": "code",
      "source": [
        "X_test[0].shape"
      ],
      "execution_count": 0,
      "outputs": [
        {
          "output_type": "execute_result",
          "data": {
            "text/plain": [
              "(4096,)"
            ]
          },
          "metadata": {
            "tags": []
          },
          "execution_count": 18
        }
      ]
    },
    {
      "metadata": {
        "id": "aWJqCDCbzpkq",
        "colab_type": "code",
        "colab": {},
        "outputId": "f7d2aec6-b71f-4478-d54a-8f7785447d0c"
      },
      "cell_type": "code",
      "source": [
        "to_predict.shape"
      ],
      "execution_count": 0,
      "outputs": [
        {
          "output_type": "execute_result",
          "data": {
            "text/plain": [
              "(4096,)"
            ]
          },
          "metadata": {
            "tags": []
          },
          "execution_count": 19
        }
      ]
    },
    {
      "metadata": {
        "id": "kiQPOg0gzpk0",
        "colab_type": "code",
        "colab": {},
        "outputId": "9607dea0-4bea-4bb7-a906-4b11281c196b"
      },
      "cell_type": "code",
      "source": [
        "pred"
      ],
      "execution_count": 0,
      "outputs": [
        {
          "output_type": "error",
          "ename": "NameError",
          "evalue": "name 'pred' is not defined",
          "traceback": [
            "\u001b[1;31m---------------------------------------------------------------------------\u001b[0m",
            "\u001b[1;31mNameError\u001b[0m                                 Traceback (most recent call last)",
            "\u001b[1;32m<ipython-input-21-c6fc79dbd350>\u001b[0m in \u001b[0;36m<module>\u001b[1;34m\u001b[0m\n\u001b[1;32m----> 1\u001b[1;33m \u001b[0mpred\u001b[0m\u001b[1;33m\u001b[0m\u001b[0m\n\u001b[0m",
            "\u001b[1;31mNameError\u001b[0m: name 'pred' is not defined"
          ]
        }
      ]
    },
    {
      "metadata": {
        "id": "mKbVgygMzplF",
        "colab_type": "code",
        "colab": {}
      },
      "cell_type": "code",
      "source": [
        ""
      ],
      "execution_count": 0,
      "outputs": []
    }
  ]
}