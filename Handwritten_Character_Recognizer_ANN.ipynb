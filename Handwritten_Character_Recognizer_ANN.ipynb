{
  "nbformat": 4,
  "nbformat_minor": 0,
  "metadata": {
    "colab": {
      "name": "Handwritten_Character_Recognizer_ANN.ipynb",
      "version": "0.3.2",
      "provenance": [],
      "include_colab_link": true
    },
    "kernelspec": {
      "display_name": "Python 3",
      "language": "python",
      "name": "python3"
    }
  },
  "cells": [
    {
      "cell_type": "markdown",
      "metadata": {
        "id": "view-in-github",
        "colab_type": "text"
      },
      "source": [
        "[View in Colaboratory](https://colab.research.google.com/github/ayan59dutta/Handwritten-Text-Extractor-using-NN/blob/master/Handwritten_Character_Recognizer_ANN.ipynb)"
      ]
    },
    {
      "metadata": {
        "id": "XMk8m6N3zpiR",
        "colab_type": "code",
        "outputId": "f9ae9e28-bee1-4fd6-8797-4298c3a4407c",
        "colab": {
          "base_uri": "https://localhost:8080/",
          "height": 35
        }
      },
      "cell_type": "code",
      "source": [
        "import time\n",
        "start = time.time()\n",
        "import tensorflow as tf\n",
        "import matplotlib.pyplot as plt\n",
        "import numpy as np\n",
        "import os\n",
        "from PIL import Image\n",
        "import zipfile\n",
        "print('Packages imported in', time.time()-start, 'seconds...')"
      ],
      "execution_count": 0,
      "outputs": [
        {
          "output_type": "stream",
          "text": [
            "Packages imported in 0.8629271984100342 seconds...\n"
          ],
          "name": "stdout"
        }
      ]
    },
    {
      "metadata": {
        "id": "nzUUBqMSrxx8",
        "colab_type": "code",
        "outputId": "4f65d4f2-ca0a-4b83-e026-cdbbef6f1400",
        "colab": {
          "base_uri": "https://localhost:8080/",
          "height": 366
        }
      },
      "cell_type": "code",
      "source": [
        "# Do not run this cell if dataset is already present in folder\n",
        "\n",
        "!pip install gdown\n",
        "!gdown https://drive.google.com/uc?id=1JLBWOyxNWDxUnIarBVMdAv460z1ICkuh"
      ],
      "execution_count": 0,
      "outputs": [
        {
          "output_type": "stream",
          "text": [
            "Collecting gdown\n",
            "  Downloading https://files.pythonhosted.org/packages/12/33/e9f21d0b3f85804ca570d124fb7a80c12a99948ff495cf54dfb72f18bf9e/gdown-3.6.0.tar.gz\n",
            "Requirement already satisfied: requests in /usr/local/lib/python3.6/dist-packages (from gdown) (2.18.4)\n",
            "Requirement already satisfied: six in /usr/local/lib/python3.6/dist-packages (from gdown) (1.11.0)\n",
            "Requirement already satisfied: tqdm in /usr/local/lib/python3.6/dist-packages (from gdown) (4.28.1)\n",
            "Requirement already satisfied: idna<2.7,>=2.5 in /usr/local/lib/python3.6/dist-packages (from requests->gdown) (2.6)\n",
            "Requirement already satisfied: chardet<3.1.0,>=3.0.2 in /usr/local/lib/python3.6/dist-packages (from requests->gdown) (3.0.4)\n",
            "Requirement already satisfied: urllib3<1.23,>=1.21.1 in /usr/local/lib/python3.6/dist-packages (from requests->gdown) (1.22)\n",
            "Requirement already satisfied: certifi>=2017.4.17 in /usr/local/lib/python3.6/dist-packages (from requests->gdown) (2018.10.15)\n",
            "Building wheels for collected packages: gdown\n",
            "  Running setup.py bdist_wheel for gdown ... \u001b[?25l-\b \bdone\n",
            "\u001b[?25h  Stored in directory: /root/.cache/pip/wheels/97/90/fa/25654eb65da3e6da7752db71a164e0eb8f7a6fb4335eeb46ab\n",
            "Successfully built gdown\n",
            "Installing collected packages: gdown\n",
            "Successfully installed gdown-3.6.0\n",
            "Downloading...\n",
            "From: https://drive.google.com/uc?id=1JLBWOyxNWDxUnIarBVMdAv460z1ICkuh\n",
            "To: /content/nist_by_class.zip\n",
            "439MB [00:02, 213MB/s]\n"
          ],
          "name": "stdout"
        }
      ]
    },
    {
      "metadata": {
        "id": "mpbwhVSl_gFp",
        "colab_type": "code",
        "colab": {}
      },
      "cell_type": "code",
      "source": [
        "# def download_file_from_google_drive(id='1JLBWOyxNWDxUnIarBVMdAv460z1ICkuh', destination='nist_by_class.zip'):\n",
        "#     def get_confirm_token(response):\n",
        "#         for key, value in response.cookies.items():\n",
        "#             if key.startswith('download_warning'):\n",
        "#                 return value\n",
        "\n",
        "#         return None\n",
        "\n",
        "#     def save_response_content(response, destination):\n",
        "#         CHUNK_SIZE = 32768\n",
        "\n",
        "#         with open(destination, \"wb\") as f:\n",
        "#             for chunk in response.iter_content(CHUNK_SIZE):\n",
        "#                 if chunk: # filter out keep-alive new chunks\n",
        "#                     f.write(chunk)\n",
        "\n",
        "#     URL = \"https://docs.google.com/uc?export=download\"\n",
        "\n",
        "#     session = requests.Session()\n",
        "\n",
        "#     response = session.get(URL, params = { 'id' : id }, stream = True)\n",
        "#     token = get_confirm_token(response)\n",
        "\n",
        "#     if token:\n",
        "#         params = { 'id' : id, 'confirm' : token }\n",
        "#         response = session.get(URL, params = params, stream = True)\n",
        "\n",
        "#     save_response_content(response, destination)\n",
        "\n",
        "# download_file_from_google_drive()"
      ],
      "execution_count": 0,
      "outputs": []
    },
    {
      "metadata": {
        "id": "sB422iQ-ANAF",
        "colab_type": "code",
        "outputId": "b12a986c-13f4-4f8f-de16-1f2d57b3f0d3",
        "colab": {
          "base_uri": "https://localhost:8080/",
          "height": 35
        }
      },
      "cell_type": "code",
      "source": [
        "# Insert absolute path of the directory in which dataset is present here, if applicable\n",
        "\n",
        "abs_path = ''\n",
        "\n",
        "start = time.time()\n",
        "with zipfile.ZipFile(abs_path+'nist_by_class.zip', 'r') as zip_ref:\n",
        "    zip_ref.extractall(abs_path+'nist_by_class')\n",
        "print('Dataset unzipped in', time.time()-start, 'seconds...')\n",
        "# !rm 'nist_by_class.zip'"
      ],
      "execution_count": 0,
      "outputs": [
        {
          "output_type": "stream",
          "text": [
            "Dataset unzipped in 106.11546540260315 seconds...\n"
          ],
          "name": "stdout"
        }
      ]
    },
    {
      "metadata": {
        "id": "-DvDeZTozpiu",
        "colab_type": "code",
        "colab": {}
      },
      "cell_type": "code",
      "source": [
        "class_info = {}\n",
        "for i in range(48, 58):\n",
        "    class_info[i-48] = (hex(i)[2:], i, chr(i))\n",
        "for i in range(65, 65+26):\n",
        "    class_info[i-65+10] = (hex(i)[2:], i, chr(i))\n",
        "for i in range(97, 97+26):\n",
        "    class_info[i-97+36] = (hex(i)[2:], i, chr(i))"
      ],
      "execution_count": 0,
      "outputs": []
    },
    {
      "metadata": {
        "id": "kQIoEoHjzpi4",
        "colab_type": "code",
        "outputId": "bffe2074-efe3-4ca7-ccf0-dc1836cd5301",
        "colab": {
          "base_uri": "https://localhost:8080/",
          "height": 752
        }
      },
      "cell_type": "code",
      "source": [
        "start = time.time()\n",
        "data_list = []\n",
        "# data_list = np.array([]).reshape(0, 4097)\n",
        "total_count = 0\n",
        "\n",
        "for i in class_info:\n",
        "    print(class_info[i], '\\t', time.time()-start, 'seconds', end='\\t')\n",
        "    path = abs_path + 'nist_by_class/' + class_info[i][0] + '/train_' + class_info[i][0]\n",
        "    count = 0\n",
        "    for img in os.listdir(path):\n",
        "        im = Image.open(path + '/' + img).convert('L').crop((32, 32, 96, 96))\n",
        "        im_arr = np.array(im, dtype='float32') / 255.0\n",
        "        flat_im_arr = im_arr.flatten()\n",
        "        flat_im_arr_labelled = np.insert(flat_im_arr, 0, i)\n",
        "        data_list.append(flat_im_arr_labelled)\n",
        "#         temp_data_list = data_list.copy()\n",
        "#         del data_list\n",
        "#         data_list = np.append(temp_data_list, flat_im_arr_labelled.reshape(1, 4097), axis=0)\n",
        "        count += 1\n",
        "    print(count, 'samples')\n",
        "#     !rm -rf 'by_class/' + class_info[i][0]\n",
        "#     !rm -rf class_info[i][0]\n",
        "    total_count += count\n",
        "\n",
        "# !rm -rf 'by_class'\n",
        "data = np.array(data_list, dtype='float32')\n",
        "\n",
        "print('Total number of samples =', total_count)\n",
        "print('Shape of final data =', data.shape)\n",
        "\n",
        "print('All sample images processed in', time.time()-start, 'seconds...')"
      ],
      "execution_count": 0,
      "outputs": [
        {
          "output_type": "stream",
          "text": [
            "('30', 48, '0') \t 0.00018143653869628906 seconds\t34803 samples\n",
            "('31', 49, '1') \t 16.88612699508667 seconds\t38049 samples\n",
            "('32', 50, '2') \t 34.999566078186035 seconds\t34184 samples\n",
            "('33', 51, '3') \t 51.77231311798096 seconds\t35293 samples\n",
            "('34', 52, '4') \t 69.25126457214355 seconds\t33432 samples\n",
            "('35', 53, '5') \t 85.60997915267944 seconds\t31067 samples\n",
            "('36', 54, '6') \t 101.0075945854187 seconds\t34079 samples\n",
            "('37', 55, '7') \t 118.14982151985168 seconds\t35796 samples\n",
            "('38', 56, '8') \t 135.94138932228088 seconds\t33884 samples\n",
            "('39', 57, '9') \t 157.61754631996155 seconds\t33720 samples\n",
            "('41', 65, 'A') \t 194.5521948337555 seconds\t7010 samples\n",
            "('42', 66, 'B') \t 201.87365674972534 seconds\t4091 samples\n",
            "('43', 67, 'C') \t 206.26549696922302 seconds\t11315 samples\n",
            "('44', 68, 'D') \t 218.03602838516235 seconds\t4945 samples\n",
            "('45', 69, 'E') \t 223.05316925048828 seconds\t5420 samples\n",
            "('46', 70, 'F') \t 228.76392030715942 seconds\t10203 samples\n",
            "('47', 71, 'G') \t 239.36686301231384 seconds\t2575 samples\n",
            "('48', 72, 'H') \t 242.05662608146667 seconds\t3271 samples\n",
            "('49', 73, 'I') \t 245.42897963523865 seconds\t13179 samples\n",
            "('4a', 74, 'J') \t 259.27368569374084 seconds\t3962 samples\n",
            "('4b', 75, 'K') \t 263.46446466445923 seconds\t2473 samples\n",
            "('4c', 76, 'L') \t 264.714017868042 seconds\t5390 samples\n",
            "('4d', 77, 'M') \t 267.4064927101135 seconds\t10027 samples\n",
            "('4e', 78, 'N') \t 272.4812104701996 seconds\t9149 samples\n",
            "('4f', 79, 'O') \t 277.08138060569763 seconds\t28680 samples\n",
            "('50', 80, 'P') \t 302.26950454711914 seconds\t9277 samples\n",
            "('51', 81, 'Q') \t 311.8273389339447 seconds\t2566 samples\n",
            "('52', 82, 'R') \t 314.4327907562256 seconds\t5436 samples\n",
            "('53', 83, 'S') \t 319.86367774009705 seconds\t23827 samples\n",
            "('54', 84, 'T') \t 344.84990787506104 seconds\t10927 samples\n",
            "('55', 85, 'U') \t 356.2703433036804 seconds\t14146 samples\n",
            "('56', 86, 'V') \t 371.6865110397339 seconds\t4951 samples\n",
            "('57', 87, 'W') \t 377.2405185699463 seconds\t5026 samples\n",
            "('58', 88, 'X') \t 382.8274812698364 seconds\t2731 samples\n",
            "('59', 89, 'Y') \t 385.8466293811798 seconds\t5088 samples\n",
            "('5a', 90, 'Z') \t 391.4066159725189 seconds\t2698 samples\n",
            "('61', 97, 'a') \t 394.41063618659973 seconds\t11196 samples\n",
            "('62', 98, 'b') \t 406.94478821754456 seconds\t5551 samples\n",
            "('63', 99, 'c') \t 413.3820445537567 seconds\t2792 samples\n",
            "('64', 100, 'd') \t 416.47009468078613 seconds\t"
          ],
          "name": "stdout"
        }
      ]
    },
    {
      "metadata": {
        "id": "OVRYkwFMzpjC",
        "colab_type": "code",
        "outputId": "fea6aa3a-8b24-43f9-85b1-5068edaa78e6",
        "colab": {}
      },
      "cell_type": "code",
      "source": [
        "start = time.time()\n",
        "data_shuffled = np.random.shuffle(data)\n",
        "print('Data shuffled in', time.time()-start, 'seconds...')"
      ],
      "execution_count": 0,
      "outputs": [
        {
          "output_type": "stream",
          "text": [
            "Data shuffled in 3140.593427658081 seconds...\n"
          ],
          "name": "stdout"
        }
      ]
    },
    {
      "metadata": {
        "id": "rWz-25N5zpjK",
        "colab_type": "code",
        "colab": {}
      },
      "cell_type": "code",
      "source": [
        "X_train = data[:627000, 1:]\n",
        "Y_train = data[:627000, 0]\n",
        "X_test = data[627000:, 1:]\n",
        "Y_test = data[627000:, 0]\n",
        "del data"
      ],
      "execution_count": 0,
      "outputs": []
    },
    {
      "metadata": {
        "id": "BelUeGWDzpjU",
        "colab_type": "code",
        "colab": {}
      },
      "cell_type": "code",
      "source": [
        "model = tf.keras.models.Sequential()\n",
        "layer = tf.keras.layers.Dense(256, input_shape=[64*64*1])\n",
        "model.add(layer)\n",
        "model.add(tf.keras.layers.Dense(192))\n",
        "model.add(tf.keras.layers.Dense(128))\n",
        "model.add(tf.keras.layers.Dense(62, activation='softmax'))\n",
        "model.compile(optimizer='adam', loss='categorical_crossentropy')\n",
        "model.summary()"
      ],
      "execution_count": 0,
      "outputs": []
    },
    {
      "metadata": {
        "id": "q9XcmFfyzpj7",
        "colab_type": "code",
        "colab": {}
      },
      "cell_type": "code",
      "source": [
        "Y_train = tf.keras.utils.to_categorical(Y_train)\n",
        "# X_train = X_train.astype('float32') / 255.0"
      ],
      "execution_count": 0,
      "outputs": []
    },
    {
      "metadata": {
        "id": "tal1bLyTzpkJ",
        "colab_type": "code",
        "outputId": "6ab20239-a83f-4da8-e801-74fb31a78059",
        "colab": {}
      },
      "cell_type": "code",
      "source": [
        "model.fit(X_train, Y_train, epochs=5)"
      ],
      "execution_count": 0,
      "outputs": [
        {
          "output_type": "stream",
          "text": [
            "Epoch 1/1\n",
            "627000/627000 [==============================] - 2217s 4ms/step - loss: 15.3387\n"
          ],
          "name": "stdout"
        },
        {
          "output_type": "execute_result",
          "data": {
            "text/plain": [
              "<tensorflow.python.keras.callbacks.History at 0x2142ebeef60>"
            ]
          },
          "metadata": {
            "tags": []
          },
          "execution_count": 10
        }
      ]
    },
    {
      "metadata": {
        "id": "TpiY4rHWKyWb",
        "colab_type": "code",
        "colab": {}
      },
      "cell_type": "code",
      "source": [
        "start = time.time()\n",
        "loss, acc = new_model.evaluate(X_test, Y_test)\n",
        "print('Accuracy on test set :', acc*100, '%')\n",
        "print('Loss on test set :', loss')\n",
        "print('Model evaluated on test set in', time.time()-start, 'seconds...')"
      ],
      "execution_count": 0,
      "outputs": []
    },
    {
      "metadata": {
        "id": "rvrBeQ-dYDyW",
        "colab_type": "code",
        "colab": {}
      },
      "cell_type": "code",
      "source": [
        "start = time.time()\n",
        "model.save('./saved_model/HCRANN.h5')\n",
        "print('Model saved to disk in', time.time()-start, 'seconds...')"
      ],
      "execution_count": 0,
      "outputs": []
    },
    {
      "metadata": {
        "id": "BZffkvRezpkS",
        "colab_type": "code",
        "outputId": "bacc53a6-c027-4652-a98c-0b4e9e521191",
        "colab": {}
      },
      "cell_type": "code",
      "source": [
        "to_predict = X_test[0]\n",
        "\n",
        "pred = model.predict(X_test[0].reshape(4096,))\n",
        "print(class_info[np.argmax(pred)][-1])\n",
        "\n",
        "plt.axis('off')\n",
        "plt.imshow(to_predict.reshape(64, 64))\n",
        "plt.show()"
      ],
      "execution_count": 0,
      "outputs": [
        {
          "output_type": "error",
          "ename": "ValueError",
          "evalue": "Error when checking input: expected dense_input to have shape (4096,) but got array with shape (1,)",
          "traceback": [
            "\u001b[1;31m---------------------------------------------------------------------------\u001b[0m",
            "\u001b[1;31mValueError\u001b[0m                                Traceback (most recent call last)",
            "\u001b[1;32m<ipython-input-20-6ae25c05b928>\u001b[0m in \u001b[0;36m<module>\u001b[1;34m\u001b[0m\n\u001b[0;32m      1\u001b[0m \u001b[0mto_predict\u001b[0m \u001b[1;33m=\u001b[0m \u001b[0mX_test\u001b[0m\u001b[1;33m[\u001b[0m\u001b[1;36m0\u001b[0m\u001b[1;33m]\u001b[0m\u001b[1;33m\u001b[0m\u001b[0m\n\u001b[0;32m      2\u001b[0m \u001b[1;33m\u001b[0m\u001b[0m\n\u001b[1;32m----> 3\u001b[1;33m \u001b[0mpred\u001b[0m \u001b[1;33m=\u001b[0m \u001b[0mmodel\u001b[0m\u001b[1;33m.\u001b[0m\u001b[0mpredict\u001b[0m\u001b[1;33m(\u001b[0m\u001b[0mX_test\u001b[0m\u001b[1;33m[\u001b[0m\u001b[1;36m0\u001b[0m\u001b[1;33m]\u001b[0m\u001b[1;33m.\u001b[0m\u001b[0mreshape\u001b[0m\u001b[1;33m(\u001b[0m\u001b[1;36m4096\u001b[0m\u001b[1;33m,\u001b[0m\u001b[1;33m)\u001b[0m\u001b[1;33m)\u001b[0m\u001b[1;33m\u001b[0m\u001b[0m\n\u001b[0m\u001b[0;32m      4\u001b[0m \u001b[0mprint\u001b[0m\u001b[1;33m(\u001b[0m\u001b[0mclass_info\u001b[0m\u001b[1;33m[\u001b[0m\u001b[0mnp\u001b[0m\u001b[1;33m.\u001b[0m\u001b[0margmax\u001b[0m\u001b[1;33m(\u001b[0m\u001b[0mpred\u001b[0m\u001b[1;33m)\u001b[0m\u001b[1;33m]\u001b[0m\u001b[1;33m[\u001b[0m\u001b[1;33m-\u001b[0m\u001b[1;36m1\u001b[0m\u001b[1;33m]\u001b[0m\u001b[1;33m)\u001b[0m\u001b[1;33m\u001b[0m\u001b[0m\n\u001b[0;32m      5\u001b[0m \u001b[1;33m\u001b[0m\u001b[0m\n",
            "\u001b[1;32mc:\\program files\\python36\\lib\\site-packages\\tensorflow\\python\\keras\\engine\\training.py\u001b[0m in \u001b[0;36mpredict\u001b[1;34m(self, x, batch_size, verbose, steps)\u001b[0m\n\u001b[0;32m   1750\u001b[0m     \u001b[1;31m# Validate and standardize user data.\u001b[0m\u001b[1;33m\u001b[0m\u001b[1;33m\u001b[0m\u001b[0m\n\u001b[0;32m   1751\u001b[0m     x, _, _ = self._standardize_user_data(\n\u001b[1;32m-> 1752\u001b[1;33m         x, check_steps=True, steps_name='steps', steps=steps)\n\u001b[0m\u001b[0;32m   1753\u001b[0m \u001b[1;33m\u001b[0m\u001b[0m\n\u001b[0;32m   1754\u001b[0m     \u001b[1;32mif\u001b[0m \u001b[0mcontext\u001b[0m\u001b[1;33m.\u001b[0m\u001b[0mexecuting_eagerly\u001b[0m\u001b[1;33m(\u001b[0m\u001b[1;33m)\u001b[0m\u001b[1;33m:\u001b[0m\u001b[1;33m\u001b[0m\u001b[0m\n",
            "\u001b[1;32mc:\\program files\\python36\\lib\\site-packages\\tensorflow\\python\\keras\\engine\\training.py\u001b[0m in \u001b[0;36m_standardize_user_data\u001b[1;34m(self, x, y, sample_weight, class_weight, batch_size, check_steps, steps_name, steps, validation_split)\u001b[0m\n\u001b[0;32m    991\u001b[0m       \u001b[0mx\u001b[0m\u001b[1;33m,\u001b[0m \u001b[0my\u001b[0m \u001b[1;33m=\u001b[0m \u001b[0mnext_element\u001b[0m\u001b[1;33m\u001b[0m\u001b[0m\n\u001b[0;32m    992\u001b[0m     x, y, sample_weights = self._standardize_weights(x, y, sample_weight,\n\u001b[1;32m--> 993\u001b[1;33m                                                      class_weight, batch_size)\n\u001b[0m\u001b[0;32m    994\u001b[0m     \u001b[1;32mreturn\u001b[0m \u001b[0mx\u001b[0m\u001b[1;33m,\u001b[0m \u001b[0my\u001b[0m\u001b[1;33m,\u001b[0m \u001b[0msample_weights\u001b[0m\u001b[1;33m\u001b[0m\u001b[0m\n\u001b[0;32m    995\u001b[0m \u001b[1;33m\u001b[0m\u001b[0m\n",
            "\u001b[1;32mc:\\program files\\python36\\lib\\site-packages\\tensorflow\\python\\keras\\engine\\training.py\u001b[0m in \u001b[0;36m_standardize_weights\u001b[1;34m(self, x, y, sample_weight, class_weight, batch_size)\u001b[0m\n\u001b[0;32m   1110\u001b[0m         \u001b[0mfeed_input_shapes\u001b[0m\u001b[1;33m,\u001b[0m\u001b[1;33m\u001b[0m\u001b[0m\n\u001b[0;32m   1111\u001b[0m         \u001b[0mcheck_batch_axis\u001b[0m\u001b[1;33m=\u001b[0m\u001b[1;32mFalse\u001b[0m\u001b[1;33m,\u001b[0m  \u001b[1;31m# Don't enforce the batch size.\u001b[0m\u001b[1;33m\u001b[0m\u001b[0m\n\u001b[1;32m-> 1112\u001b[1;33m         exception_prefix='input')\n\u001b[0m\u001b[0;32m   1113\u001b[0m \u001b[1;33m\u001b[0m\u001b[0m\n\u001b[0;32m   1114\u001b[0m     \u001b[1;32mif\u001b[0m \u001b[0my\u001b[0m \u001b[1;32mis\u001b[0m \u001b[1;32mnot\u001b[0m \u001b[1;32mNone\u001b[0m\u001b[1;33m:\u001b[0m\u001b[1;33m\u001b[0m\u001b[0m\n",
            "\u001b[1;32mc:\\program files\\python36\\lib\\site-packages\\tensorflow\\python\\keras\\engine\\training_utils.py\u001b[0m in \u001b[0;36mstandardize_input_data\u001b[1;34m(data, names, shapes, check_batch_axis, exception_prefix)\u001b[0m\n\u001b[0;32m    323\u001b[0m                 \u001b[1;34m'Error when checking '\u001b[0m \u001b[1;33m+\u001b[0m \u001b[0mexception_prefix\u001b[0m \u001b[1;33m+\u001b[0m \u001b[1;34m': expected '\u001b[0m \u001b[1;33m+\u001b[0m\u001b[1;33m\u001b[0m\u001b[0m\n\u001b[0;32m    324\u001b[0m                 \u001b[0mnames\u001b[0m\u001b[1;33m[\u001b[0m\u001b[0mi\u001b[0m\u001b[1;33m]\u001b[0m \u001b[1;33m+\u001b[0m \u001b[1;34m' to have shape '\u001b[0m \u001b[1;33m+\u001b[0m \u001b[0mstr\u001b[0m\u001b[1;33m(\u001b[0m\u001b[0mshape\u001b[0m\u001b[1;33m)\u001b[0m \u001b[1;33m+\u001b[0m\u001b[1;33m\u001b[0m\u001b[0m\n\u001b[1;32m--> 325\u001b[1;33m                 ' but got array with shape ' + str(data_shape))\n\u001b[0m\u001b[0;32m    326\u001b[0m   \u001b[1;32mreturn\u001b[0m \u001b[0mdata\u001b[0m\u001b[1;33m\u001b[0m\u001b[0m\n\u001b[0;32m    327\u001b[0m \u001b[1;33m\u001b[0m\u001b[0m\n",
            "\u001b[1;31mValueError\u001b[0m: Error when checking input: expected dense_input to have shape (4096,) but got array with shape (1,)"
          ]
        }
      ]
    },
    {
      "metadata": {
        "id": "NZ4Ce8eJzpkc",
        "colab_type": "code",
        "outputId": "869e43b8-0423-4947-c67e-903e06ef748b",
        "colab": {}
      },
      "cell_type": "code",
      "source": [
        "X_test[0].shape"
      ],
      "execution_count": 0,
      "outputs": [
        {
          "output_type": "execute_result",
          "data": {
            "text/plain": [
              "(4096,)"
            ]
          },
          "metadata": {
            "tags": []
          },
          "execution_count": 18
        }
      ]
    },
    {
      "metadata": {
        "id": "aWJqCDCbzpkq",
        "colab_type": "code",
        "outputId": "f7d2aec6-b71f-4478-d54a-8f7785447d0c",
        "colab": {}
      },
      "cell_type": "code",
      "source": [
        "to_predict.shape"
      ],
      "execution_count": 0,
      "outputs": [
        {
          "output_type": "execute_result",
          "data": {
            "text/plain": [
              "(4096,)"
            ]
          },
          "metadata": {
            "tags": []
          },
          "execution_count": 19
        }
      ]
    },
    {
      "metadata": {
        "id": "kiQPOg0gzpk0",
        "colab_type": "code",
        "outputId": "9607dea0-4bea-4bb7-a906-4b11281c196b",
        "colab": {}
      },
      "cell_type": "code",
      "source": [
        "pred"
      ],
      "execution_count": 0,
      "outputs": [
        {
          "output_type": "error",
          "ename": "NameError",
          "evalue": "name 'pred' is not defined",
          "traceback": [
            "\u001b[1;31m---------------------------------------------------------------------------\u001b[0m",
            "\u001b[1;31mNameError\u001b[0m                                 Traceback (most recent call last)",
            "\u001b[1;32m<ipython-input-21-c6fc79dbd350>\u001b[0m in \u001b[0;36m<module>\u001b[1;34m\u001b[0m\n\u001b[1;32m----> 1\u001b[1;33m \u001b[0mpred\u001b[0m\u001b[1;33m\u001b[0m\u001b[0m\n\u001b[0m",
            "\u001b[1;31mNameError\u001b[0m: name 'pred' is not defined"
          ]
        }
      ]
    },
    {
      "metadata": {
        "id": "mKbVgygMzplF",
        "colab_type": "code",
        "colab": {}
      },
      "cell_type": "code",
      "source": [
        ""
      ],
      "execution_count": 0,
      "outputs": []
    }
  ]
}